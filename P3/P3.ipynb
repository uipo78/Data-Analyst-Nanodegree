{
 "cells": [
  {
   "cell_type": "markdown",
   "metadata": {
    "collapsed": true
   },
   "source": [
    "# Data Wrangling\n",
    "\n",
    "__Map Area__: New York City area ([See here](https://mapzen.com/data/metro-extracts/metro/new-york_new-york/)) I chose this area because it is where I went to school.\n",
    "\n",
    "__Note__: \n",
    "* The OSM-to-CSV code is NOT included in this document. See the folder 'db_shaper' provided in 'P3'.\n",
    "* Only a sample of the file 'new-york_new-york.osm' is included in 'P3'. In order to obtain the file in full (whose size is over 2.7GB), you should directly download the file from mapzen.com. Clicking on the link above 'see here' will direct you to the file's source. "
   ]
  },
  {
   "cell_type": "code",
   "execution_count": 1,
   "metadata": {
    "collapsed": false
   },
   "outputs": [],
   "source": [
    "import pprint\n",
    "import re\n",
    "import xml.etree.ElementTree as et\n",
    "\n",
    "from collections import defaultdict\n",
    "\n",
    "WD = '...'\n",
    "OSM_FILE = 'new-york_new-york.osm'"
   ]
  },
  {
   "cell_type": "markdown",
   "metadata": {},
   "source": [
    "## Problems Encountered in the Map\n",
    "\n",
    "After running a few functions that identify irregular entries, I notice two *recurring* issues:\n",
    "* Inconsistent street types and cardinal directions\n",
    "* Inconsistent zip codes\n",
    "\n",
    "Provided below are the functions used to identify the irregularities. Note that all fixes are made via 'db_shaper'."
   ]
  },
  {
   "cell_type": "code",
   "execution_count": 2,
   "metadata": {
    "collapsed": false
   },
   "outputs": [],
   "source": [
    "NOT_NUMBER_RE = re.compile('\\D+')\n",
    "ZIPCODE_RE = re.compile('06|07|08|10|11')\n",
    "STREET_TYPE_RE = re.compile(r'b\\S+\\.?$', re.IGNORECASE)\n",
    "CARDINAL_RE = re.compile('[NESW](\\s|\\.\\s)', re.IGNORECASE)\n",
    "\n",
    "EXPECTED_CARDINAL = set(['North ', 'East ', 'South ', 'West '])\n",
    "EXPECTED_STREET = set(['Avenue', 'Bridge', 'Boulevard', 'Commons', 'Court','Drive', 'Lane',\n",
    "                       'Parkway', 'Place', 'Road', 'Square', 'Street', 'Trail'])\n",
    "\n",
    "\n",
    "def audit_zipcode(dict_, tag):\n",
    "    f_all = NOT_NUMBER_RE.findall(tag.attrib['v'])\n",
    "    if len(f_all) != 0 and set(f_all) != set('-'):\n",
    "        unexpected_set = set(f_all).difference(set('-'))\n",
    "        for unexpected in unexpected_set:\n",
    "            dict_[unexpected].add(tag.attrib['v'])\n",
    "    else:\n",
    "        match = ZIPCODE_RE.match(tag.attrib['v'])\n",
    "        if not match:\n",
    "            wrong_region = tag.attrib['v'][:2]\n",
    "            dict_[wrong_region].add(tag.attrib['v'])\n",
    "                \n",
    "\n",
    "def audit_street(dict_, tag):\n",
    "    match = STREET_TYPE_RE.search(tag.attrib['v'])\n",
    "    if match:\n",
    "        street_type = match.group()\n",
    "        if street_type not in EXPECTED_STREET:                \n",
    "            dict_[street_type].add(tag.attrib['v'])\n",
    "    match = CARDINAL_RE.match(tag.attrib['v'])\n",
    "    if match:\n",
    "        cardinal = match.group()\n",
    "        if cardinal not in EXPECTED_CARDINAL:\n",
    "            dict_[cardinal].add(tag.attrib['v'])\n",
    "            \n",
    "\n",
    "function_mapping = {'zipcode': audit_zipcode,\n",
    "                 'street': audit_street}\n",
    "key_mapping = {'zipcode': 'addr:postcode',\n",
    "               'street': 'addr:street'}\n",
    "\n",
    "\n",
    "def is_type(type_to_audit, tag):\n",
    "    return key_mapping[type_to_audit] == tag.attrib['k']\n",
    "            \n",
    "\n",
    "def audit(osm_file, type_to_audit, tags=('node', 'way', 'relation')):\n",
    "    weirdos = defaultdict(set)\n",
    "    context = iter(et.iterparse(osm_file, events=('start', 'end')))\n",
    "    _, root = next(context)\n",
    "    for event, elem in context:\n",
    "        if elem.tag in tags:\n",
    "            for tag in elem.iter('tag'):\n",
    "                if is_type(type_to_audit, tag):\n",
    "                    audit_function = function_mapping[type_to_audit]\n",
    "                    audit_function(weirdos, tag)\n",
    "            if event == 'end':\n",
    "                root.clear()\n",
    "    pprint.pprint(dict(weirdos))"
   ]
  },
  {
   "cell_type": "markdown",
   "metadata": {},
   "source": [
    "Let's look at the street irregularities first."
   ]
  },
  {
   "cell_type": "code",
   "execution_count": 3,
   "metadata": {
    "collapsed": false,
    "scrolled": false
   },
   "outputs": [
    {
     "name": "stdout",
     "output_type": "stream",
     "text": [
      "{'Ballfields': {'John Golden Ballfields'},\n",
      " 'Bayside': {'Bayside'},\n",
      " 'Beach': {'Crescent Beach'},\n",
      " 'Bellerose': {'Hillside Avenue Bellerose'},\n",
      " 'Blv.': {'John F. Kennedy Blv.'},\n",
      " 'Blvd': {'Bell Blvd',\n",
      "          'Bristol Blvd',\n",
      "          'College Point Blvd',\n",
      "          'Empire Blvd',\n",
      "          'Francis Lewis Blvd',\n",
      "          'Jefryn Blvd',\n",
      "          'Lukas Blvd',\n",
      "          'Manorhaven Blvd',\n",
      "          'Marin Blvd',\n",
      "          'McLean Blvd',\n",
      "          'Merrick Blvd',\n",
      "          'Northern Blvd',\n",
      "          'Orchard Beach Blvd',\n",
      "          'Port Washington Blvd',\n",
      "          'Queens Blvd',\n",
      "          'Rockaway Blvd',\n",
      "          'Sunnyside Blvd',\n",
      "          'Washington Blvd',\n",
      "          'Woodhaven Blvd',\n",
      "          'Yellowstone Blvd'},\n",
      " 'Blvd.': {'JFK Blvd.', 'Rockaway Beach Blvd.'},\n",
      " 'Bowery': {'The Bowery', 'Bowery'},\n",
      " 'Box': {'Po Box'},\n",
      " 'Brandon': {'Brandon'},\n",
      " 'Broadwat': {'South Broadwat'},\n",
      " 'Broadway': {'Broadway',\n",
      "              'Dutch Broadway',\n",
      "              'East Broadway',\n",
      "              'North Broadway',\n",
      "              'Old Broadway',\n",
      "              'South Broadway',\n",
      "              'W. Broadway',\n",
      "              'West Broadway'},\n",
      " 'Broadway.': {'Broadway.'},\n",
      " 'Brooklyn': {'334 Furman St, Brooklyn'},\n",
      " 'Bush': {'Ploughmans Bush'},\n",
      " 'Bushwick': {'Bushwick'},\n",
      " 'E ': {'E 137th St',\n",
      "        'E 170th St',\n",
      "        'E 24th Street',\n",
      "        'E 43rd St',\n",
      "        'E 45th street',\n",
      "        'E 50th Street',\n",
      "        'E 55th St Ste. 301',\n",
      "        'E 72nd St #LC',\n",
      "        'E 73rd Street',\n",
      "        'E 78th Street',\n",
      "        'E 92nd St',\n",
      "        'E 95th St',\n",
      "        'E Garfield',\n",
      "        'E Gun Hill Rd',\n",
      "        'E Halsey Rd',\n",
      "        'E Jericho Turnpike',\n",
      "        'E Kingsbridge Rd',\n",
      "        'E Main St',\n",
      "        'E Park Ave',\n",
      "        'E Putnam Ave #I',\n",
      "        'E Ridgewood Ave',\n",
      "        'E Ridgewood Avenue',\n",
      "        'E River Rd',\n",
      "        'E Road',\n",
      "        'E Route 59'},\n",
      " 'E. ': {'E. 4th Street',\n",
      "         'E. 54th St.',\n",
      "         'E. Broad Street',\n",
      "         'E. Palisade Avenue'},\n",
      " 'N ': {'N 7th St',\n",
      "        'N 9th ST',\n",
      "        'N Beverwyck Rd',\n",
      "        'N Broadway #307',\n",
      "        'N Maple Ave',\n",
      "        'N Park Ave',\n",
      "        'N Service Road',\n",
      "        'N Wood Ave #A'},\n",
      " 'S ': {'S Park St', 'S Central Avenue', 'S Broadway #2', 'S Oyster Bay Rd #D'},\n",
      " 'S. ': {'S. Fifth Street'},\n",
      " 'W ': {'W 26th St',\n",
      "        'W 27th',\n",
      "        'W 35th st',\n",
      "        'W 36th St #800a',\n",
      "        'W 36th Street',\n",
      "        'W 47th St #B',\n",
      "        'W 56th St #1H',\n",
      "        'W 56th St 2nd Floor',\n",
      "        'W 57th St',\n",
      "        'W 69th St., Central Park West',\n",
      "        'W 71st Street',\n",
      "        'W 77th Street',\n",
      "        'W 79th St #2',\n",
      "        'W Allendale Ave',\n",
      "        'W Crescent Ave',\n",
      "        'W Front Street',\n",
      "        'W Main',\n",
      "        'W Main St',\n",
      "        'W Mt Pleasant Ave',\n",
      "        'W Shore Rd',\n",
      "        'W front Street'},\n",
      " 'W. ': {'W. 44th street',\n",
      "         'W. Broadway',\n",
      "         'W. Main Street',\n",
      "         'W. Saint Georges Avenue'},\n",
      " 'ba': {'Center Drive Malba'},\n",
      " 'bed': {'4th Avenue Southbound Roadbed',\n",
      "         'Delancey Street Eb Roadbed',\n",
      "         'Gateway Drive Westbound Roadbed',\n",
      "         'Gd Concourse Northbound Roadbed',\n",
      "         'Hillside Avenue Eb Roadbed',\n",
      "         'Jamaica Avenue Eastbound Roadbed',\n",
      "         'Jamaica Avenue Westbound Roadbed',\n",
      "         'Kings Highway Westbound Roadbed',\n",
      "         'Linden Boulevard Eb Roadbed',\n",
      "         'Ocean Parkway Southbound Roadbed',\n",
      "         'Park Avenue Northbound Roadbed',\n",
      "         'Pennsylvania Avenue Nb Roadbed',\n",
      "         'Queens Boulevard Wb Roadbed',\n",
      "         'Teleport Drive Nb Roadbed',\n",
      "         'Union Turnpike Eastbound Roadbed'},\n",
      " 'bhadevi': {'12th Floor, Krypton Tower, Prabhadevi'},\n",
      " 'bilt': {'Vanderbilt'},\n",
      " 'boulevard': {'sutphin boulevard'},\n",
      " 'bus_stop': {'bus_stop'},\n",
      " 'by': {'Willoughby'}}\n"
     ]
    }
   ],
   "source": [
    "audit(osm_file=WD+OSM_FILE, type_to_audit='street')"
   ]
  },
  {
   "cell_type": "markdown",
   "metadata": {},
   "source": [
    "As you can see, there are several inconsistencies in street types and cardinal directions. These will need to be fixed before formatting the osm file into a csv. In addition, we see mispellings (Broadwat), town names (334 Furmat St, Brooklyn), and some unrecognizable entries (e.g., 'bhadevi'. Is that entry supposed to be in Mumbai?). These too will be fixed before formatting, by: 1) correcting the misspellings; 2) removing the town names; 3) removing the unrecognizable entries.\n",
    "\n",
    "Now let's examine the zipcodes."
   ]
  },
  {
   "cell_type": "code",
   "execution_count": 4,
   "metadata": {
    "collapsed": false,
    "scrolled": false
   },
   "outputs": [
    {
     "name": "stdout",
     "output_type": "stream",
     "text": [
      "{' ': {'07052 '},\n",
      " '(': {'(718) 778-0140'},\n",
      " ') ': {'(718) 778-0140'},\n",
      " '12': {'12'},\n",
      " '19': {'19122'},\n",
      " '2': {'2'},\n",
      " '22': {'22645'},\n",
      " '29': {'29201'},\n",
      " '3': {'3'},\n",
      " '32': {'320'},\n",
      " '40': {'40299'},\n",
      " '56': {'56'},\n",
      " '61': {'61'},\n",
      " '74': {'74'},\n",
      " '83': {'83'},\n",
      " '90': {'90745'},\n",
      " '97': {'97657'},\n",
      " ';': {'11214;11223', '11201;11231', '11231;11230', '08901-8556;08901'},\n",
      " 'CT ': {'CT 06870'},\n",
      " 'NJ': {'NJ'},\n",
      " 'NJ ': {'NJ 07001',\n",
      "         'NJ 07036',\n",
      "         'NJ 07065',\n",
      "         'NJ 07086',\n",
      "         'NJ 07102',\n",
      "         'NJ 07105',\n",
      "         'NJ 07652',\n",
      "         'NJ 07747'},\n",
      " 'NY ': {'NY 10001',\n",
      "         'NY 10002',\n",
      "         'NY 10003',\n",
      "         'NY 10010',\n",
      "         'NY 10012',\n",
      "         'NY 10016',\n",
      "         'NY 10018',\n",
      "         'NY 10024',\n",
      "         'NY 10026',\n",
      "         'NY 10075',\n",
      "         'NY 10111',\n",
      "         'NY 10455-1201',\n",
      "         'NY 10469',\n",
      "         'NY 10533',\n",
      "         'NY 10703',\n",
      "         'NY 11106',\n",
      "         'NY 11201',\n",
      "         'NY 11221',\n",
      "         'NY 11572',\n",
      "         'NY 11580',\n",
      "         'NY 11735',\n",
      "         'NY 11758'},\n",
      " 'New York, NY ': {'New York, NY 10065'},\n",
      " 'nj ': {'nj 07652'}}\n"
     ]
    }
   ],
   "source": [
    "audit(osm_file=WD+OSM_FILE, type_to_audit='zipcode')"
   ]
  },
  {
   "cell_type": "markdown",
   "metadata": {},
   "source": [
    "Considering the size of this dataset, there actually aren't many strange zipcode entries. We see a few problematic patterns here: 1) phone numbers instead of zipcodes; 2) strange numbers that aren't nearly long enough to be a zipcode; 3) users who weren't certain about the zipcode to enter (see ';' entries); 4) state abbreviations and cities included with the zipcode.\n",
    "\n",
    "To fix those problematic patterns, we remove 1-3 entirely, and remove non-numerics parts of any entry belonging to 4."
   ]
  },
  {
   "cell_type": "markdown",
   "metadata": {},
   "source": [
    "At this point, we reformat the data (please see the file 'db_shaper' for more information on this process) and upload it to SQLite. Finally we alter the 4 resulting tables so that their characteristics are as follows:"
   ]
  },
  {
   "cell_type": "markdown",
   "metadata": {},
   "source": [
    "CREATE TABLE nodes(  \n",
    "&nbsp;&nbsp;&nbsp;&nbsp;&nbsp;id INTEGER PRIMARY KEY,  \n",
    "&nbsp;&nbsp;&nbsp;&nbsp;&nbsp;lat TEXT,  \n",
    "&nbsp;&nbsp;&nbsp;&nbsp;&nbsp;lon TEXT,  \n",
    "&nbsp;&nbsp;&nbsp;&nbsp;&nbsp;user TEXT,  \n",
    "&nbsp;&nbsp;&nbsp;&nbsp;&nbsp;uid TEXT,  \n",
    "&nbsp;&nbsp;&nbsp;&nbsp;&nbsp;version TEXT,  \n",
    "&nbsp;&nbsp;&nbsp;&nbsp;&nbsp;changeset TEXT,  \n",
    "&nbsp;&nbsp;&nbsp;&nbsp;&nbsp;timestamp TEXT  \n",
    ");  \n",
    "CREATE TABLE node_tags(  \n",
    "&nbsp;&nbsp;&nbsp;&nbsp;&nbsp;id INTEGER,  \n",
    "&nbsp;&nbsp;&nbsp;&nbsp;&nbsp;key TEXT,  \n",
    "&nbsp;&nbsp;&nbsp;&nbsp;&nbsp;value TEXT,  \n",
    "&nbsp;&nbsp;&nbsp;&nbsp;&nbsp;type TEXT,  \n",
    "&nbsp;&nbsp;&nbsp;&nbsp;&nbsp;FOREIGN KEY (id) REFERENCES nodes (id)  \n",
    ");  \n",
    "CREATE TABLE ways(  \n",
    "&nbsp;&nbsp;&nbsp;&nbsp;&nbsp;id INTEGER PRIMARY KEY,  \n",
    "&nbsp;&nbsp;&nbsp;&nbsp;&nbsp;user TEXT,  \n",
    "&nbsp;&nbsp;&nbsp;&nbsp;&nbsp;uid TEXT,  \n",
    "&nbsp;&nbsp;&nbsp;&nbsp;&nbsp;version TEXT,  \n",
    "&nbsp;&nbsp;&nbsp;&nbsp;&nbsp;changeset TEXT,  \n",
    "&nbsp;&nbsp;&nbsp;&nbsp;&nbsp;timestamp TEXT,  \n",
    ");  \n",
    "CREATE TABLE ways_nodes(  \n",
    "&nbsp;&nbsp;&nbsp;&nbsp;&nbsp;id INTEGER,  \n",
    "&nbsp;&nbsp;&nbsp;&nbsp;&nbsp;node_id INTEGER,  \n",
    "&nbsp;&nbsp;&nbsp;&nbsp;&nbsp;position INTEGER,  \n",
    "&nbsp;&nbsp;&nbsp;&nbsp;&nbsp;FOREIGN KEY (id) REFERNCES ways (id),  \n",
    "&nbsp;&nbsp;&nbsp;&nbsp;&nbsp;FOREIGN KEY (node_id) REFERNCES nodes (id),  \n",
    ");  \n",
    "CREATE TABLE ways_tags(  \n",
    "&nbsp;&nbsp;&nbsp;&nbsp;&nbsp;id INTEGER,  \n",
    "&nbsp;&nbsp;&nbsp;&nbsp;&nbsp;key TEXT,  \n",
    "&nbsp;&nbsp;&nbsp;&nbsp;&nbsp;value TEXT,  \n",
    "&nbsp;&nbsp;&nbsp;&nbsp;&nbsp;type TEXT,  \n",
    "&nbsp;&nbsp;&nbsp;&nbsp;&nbsp;FOREIGN KEY (id) REFERENCES ways (id)  \n",
    ");"
   ]
  },
  {
   "cell_type": "markdown",
   "metadata": {},
   "source": [
    "## Overview of the Data\n",
    "### Number of nodes"
   ]
  },
  {
   "cell_type": "markdown",
   "metadata": {},
   "source": [
    "SELECT COUNT(DISTINCT id)  \n",
    "FROM nodes;\n",
    "\n",
    "11417150"
   ]
  },
  {
   "cell_type": "markdown",
   "metadata": {},
   "source": [
    "### Number of ways"
   ]
  },
  {
   "cell_type": "markdown",
   "metadata": {
    "collapsed": true
   },
   "source": [
    "SELECT COUNT(DISTINCT id)  \n",
    "FROM ways;\n",
    "\n",
    "1787504"
   ]
  },
  {
   "cell_type": "markdown",
   "metadata": {},
   "source": [
    "### Number of node tags"
   ]
  },
  {
   "cell_type": "markdown",
   "metadata": {},
   "source": [
    "SELECT COUNT(DISTINCT id)  \n",
    "FROM nodes_tags;\n",
    "\n",
    "316893"
   ]
  },
  {
   "cell_type": "markdown",
   "metadata": {},
   "source": [
    "### Number of way tags"
   ]
  },
  {
   "cell_type": "markdown",
   "metadata": {},
   "source": [
    "SELECT COUNT(DISTINCT id)  \n",
    "FROM ways_tags;\n",
    "\n",
    "1780123"
   ]
  },
  {
   "cell_type": "markdown",
   "metadata": {},
   "source": [
    "### Number of unique users"
   ]
  },
  {
   "cell_type": "markdown",
   "metadata": {},
   "source": [
    "CREATE VIEW tmp_view AS  \n",
    "SELECT uid FROM nodes  \n",
    "UNION   \n",
    "SELECT uid FROM ways;  \n",
    "\n",
    "SELECT COUNT(uid)  \n",
    "FROM tmp_view;\n",
    "\n",
    "4438"
   ]
  },
  {
   "cell_type": "markdown",
   "metadata": {},
   "source": [
    "## Data Exploration\n",
    "A good many of the node tags are associated with banal places and objects (such as benches). Still there are a few categories that may be of interest. They are considered below.\n",
    "### Top 5 banks\n",
    "A common perception in the New York-New Jersey area is that Chase bank appears to be almost everywhere. Indeed, when I lived in New York, there seemed to be a Chase bank at every corner and a Chase atm in every Walgreens and Duane Reade. Let's see if this is true."
   ]
  },
  {
   "cell_type": "markdown",
   "metadata": {},
   "source": [
    "CREATE VIEW banks AS  \n",
    "SELECT DISTINCT(id)  \n",
    "FROM nodes_tags  \n",
    "WHERE value='bank';\n",
    "\n",
    "SELECT nodes_tags.value, COUNT(*) as count  \n",
    "FROM nodes_tags JOIN banks  \n",
    "ON nodes_tags.id=banks.id  \n",
    "WHERE nodes_tags.key='name'  \n",
    "GROUP BY nodes_tags.value  \n",
    "ORDER BY count DESC  \n",
    "LIMIT 5;\n",
    "\n",
    "Chase|115  \n",
    "Bank of America|76  \n",
    "Citibank|61  \n",
    "TD Bank|49  \n",
    "Capital One|36  "
   ]
  },
  {
   "cell_type": "markdown",
   "metadata": {},
   "source": [
    "### Religion with the most places of worship"
   ]
  },
  {
   "cell_type": "markdown",
   "metadata": {},
   "source": [
    "CREATE VIEW religion AS  \n",
    "SELECT DISTINCT(id)  \n",
    "FROM nodes_tags  \n",
    "WHERE value='place_of_worship';\n",
    "\n",
    "SELECT nodes_tags.value, COUNT(*) as count  \n",
    "FROM nodes_tags JOIN religion  \n",
    "ON nodes_tags.id=religion.id  \n",
    "WHERE nodes_tags.key='religion'  \n",
    "GROUP BY nodes_tags.value  \n",
    "ORDER BY count DESC;\n",
    "\n",
    "christian|2664  \n",
    "jewish|194  \n",
    "muslim|25  \n",
    "buddhist|9  \n",
    "hindu|7  \n",
    "sikh|1"
   ]
  },
  {
   "cell_type": "markdown",
   "metadata": {},
   "source": [
    "### Most popular type of cuisine for fast food joints\n",
    "Dollar pizza is a \"thing\" in New York City. Let's see if pizza makes it to the top."
   ]
  },
  {
   "cell_type": "markdown",
   "metadata": {},
   "source": [
    "CREATE VIEW ff AS  \n",
    "SELECT DISTINCT(id)  \n",
    "FROM nodes_tags  \n",
    "WHERE value='fast_food';\n",
    "\n",
    "SELECT nodes_tags.value, COUNT(*) as count  \n",
    "FROM nodes_tags JOIN ff  \n",
    "ON nodes_tags.id=ff.id  \n",
    "WHERE nodes_tags.key='cuisine'  \n",
    "GROUP BY nodes_tags.value  \n",
    "ORDER BY count DESC  \n",
    "LIMIT 5;\n",
    "\n",
    "burger|146  \n",
    "pizza|83  \n",
    "sandwich|77  \n",
    "mexican|45  \n",
    "chicken|28"
   ]
  },
  {
   "cell_type": "markdown",
   "metadata": {},
   "source": [
    "### Most popular type of cuisine for restaurants"
   ]
  },
  {
   "cell_type": "markdown",
   "metadata": {},
   "source": [
    "CREATE VIEW restaurants AS  \n",
    "SELECT DISTINCT(id)  \n",
    "FROM nodes_tags  \n",
    "WHERE value='restaurants';\n",
    "\n",
    "SELECT nodes_tags.value, COUNT(*) as count  \n",
    "FROM nodes_tags JOIN restaurants  \n",
    "ON nodes_tags.id=restaurants.id  \n",
    "WHERE nodes_tags.key='cuisine'  \n",
    "GROUP BY nodes_tags.value  \n",
    "ORDER BY count DESC  \n",
    "LIMIT 5;\n",
    "\n",
    "italian|206  \n",
    "american|151  \n",
    "pizza|148  \n",
    "mexican|103  \n",
    "chinese|95"
   ]
  },
  {
   "cell_type": "markdown",
   "metadata": {},
   "source": [
    "## Conclusion\n",
    "\n",
    "Following this review, it seems pretty clear that the dataset is not complete and that there likely remain several areas that need to be cleaned. Nevertheless, for the purpose of this analysis, the data was properly scrubbed.\n",
    "\n",
    "One aspect of the data in its current state which precluded some exploration was that not every node belonging to New York City is given an attribute that identifies the borough in which it is located. So it might be interesting to design an automated process that assigns every node in New York City to its respective borough, based on its geographic coordinates.\n",
    "\n",
    "The beneifts of implementing such an improvement would be especially valuable for analyzing data belonging to New York City. It would have allowed us to explore, for example, bank popularity by NYC borough: As mentioned above, Chase appears to be ubiquitous—able to be found at nearly every corner in Manhattan. Is this true for the other boroughs? Perhaps Chase has such a presence in Manhattan only.\n",
    "\n",
    "In designing such a program, you should consider the following items so as to avoid potential issues:\n",
    "* Really take care to ensure that the geographical coordinates defining each borough are as accurate as possible. It may be surprising that the borough delimiters are not as obvious as one might expect. Examples: To what borough does Rikers Island belong? Are there nodes located in regions in which the borough isn't clearly classified? (Answer: Yes, anything on Ellis Island or Governors Island).\n",
    "* On the other hand, an extremely precise coordinate definition may not be feasible. Clearly, the boroughs are not simple shapes.\n",
    "\n",
    "In short, beware of the trade-off between accuracy and feasibility and the issues that may arise from emphasizing one part of the trade-off."
   ]
  }
 ],
 "metadata": {
  "anaconda-cloud": {},
  "kernelspec": {
   "display_name": "Python [conda root]",
   "language": "python",
   "name": "conda-root-py"
  },
  "language_info": {
   "codemirror_mode": {
    "name": "ipython",
    "version": 3
   },
   "file_extension": ".py",
   "mimetype": "text/x-python",
   "name": "python",
   "nbconvert_exporter": "python",
   "pygments_lexer": "ipython3",
   "version": "3.5.2"
  }
 },
 "nbformat": 4,
 "nbformat_minor": 0
}
