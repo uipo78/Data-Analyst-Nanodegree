{
 "cells": [
  {
   "cell_type": "markdown",
   "metadata": {},
   "source": [
    "# Investigating Baseball Salaries\n",
    "\n",
    "It is easy to come up with several reasonable expectations about the relationship between a player's salary and some construct. For example, one might expect that successful players will receive higher salaries. But do these reasonable expectations always hold? In this analysis, we search for an answer to the broad question: What is the relationship between salary and success?\n",
    "\n",
    "**Before we begin**: since our salary data starts in 1985, we must exclude all prior data. "
   ]
  },
  {
   "cell_type": "markdown",
   "metadata": {},
   "source": [
    "## \"Success\""
   ]
  },
  {
   "cell_type": "code",
   "execution_count": 6,
   "metadata": {
    "collapsed": true
   },
   "outputs": [],
   "source": [
    "import pandas as pd\n",
    "\n",
    "project_dir = '/Users/carrier/Documents/Projects/Udacity/Data Analyst Nanodegree/P2/'"
   ]
  },
  {
   "cell_type": "markdown",
   "metadata": {},
   "source": [
    "One can measure success in several ways, depending, for example, on how broadly one restricts one's view. In this analysis, we will study success at two levels&mdash;team and player. One can also approach, for each level, the question of success from many angles. We will devote our attention to just a few.\n",
    "\n",
    "Before we begin, we need to modify the salary entries a bit. Currently, each salary is listed nominally for the year that it was recorded. We need to adjust all salaries for inflation so that their value represents their worth in 2015. Information from inflation.txt was scrapped from the table provided [here](http://www.usinflationcalculator.com/inflation/historical-inflation-rates/). All such values come from the [monthly CPI publication](https://www.bls.gov/cpi/home.htm) by the Bureau of Labor Statistics."
   ]
  },
  {
   "cell_type": "code",
   "execution_count": 7,
   "metadata": {
    "collapsed": true
   },
   "outputs": [],
   "source": [
    "ave_infl = pd.read_table(project_dir + 'inflation.txt', usecols=['YEAR', 'AVE'])\n",
    "ave_infl = ave_infl.set_index(ave_infl['YEAR'].astype(int))\n",
    "ave_infl = ave_infl.ix[1986:, 'AVE']/100\n",
    "\n",
    "def year_to_rate(year):\n",
    "    ret_rate = 1\n",
    "    \n",
    "    if year != 2015:\n",
    "        for rate in ave_infl.loc[(year + 1):]:\n",
    "                ret_rate *= (1 + rate)\n",
    "    \n",
    "    return ret_rate\n",
    "\n",
    "salaries = pd.read_csv(project_dir + 'baseball_data/Salaries.csv')\n",
    "salaries['salary'] = round(salaries['yearID'].apply(year_to_rate) * salaries['salary'], 2)"
   ]
  },
  {
   "cell_type": "markdown",
   "metadata": {},
   "source": [
    "### Team-level success\n",
    "#### Is there a relationship between a team's expenditure on salary and its success?\n",
    "For this question, we define a team's success by total wins for the season and by entry into, and performance during, the postseason.\n",
    "\n",
    "In order to begin our analysis, we need to compile the relevant information."
   ]
  },
  {
   "cell_type": "code",
   "execution_count": null,
   "metadata": {
    "collapsed": true
   },
   "outputs": [],
   "source": []
  },
  {
   "cell_type": "markdown",
   "metadata": {},
   "source": [
    "Notes about this data:\n",
    "\n",
    "* We're missing SeriesPost data for the year 1994\n",
    "* We need to adjust the salaries for inflation."
   ]
  },
  {
   "cell_type": "code",
   "execution_count": null,
   "metadata": {
    "collapsed": true
   },
   "outputs": [],
   "source": []
  }
 ],
 "metadata": {
  "anaconda-cloud": {},
  "kernelspec": {
   "display_name": "Python [conda root]",
   "language": "python",
   "name": "conda-root-py"
  },
  "language_info": {
   "codemirror_mode": {
    "name": "ipython",
    "version": 3
   },
   "file_extension": ".py",
   "mimetype": "text/x-python",
   "name": "python",
   "nbconvert_exporter": "python",
   "pygments_lexer": "ipython3",
   "version": "3.5.2"
  }
 },
 "nbformat": 4,
 "nbformat_minor": 1
}
